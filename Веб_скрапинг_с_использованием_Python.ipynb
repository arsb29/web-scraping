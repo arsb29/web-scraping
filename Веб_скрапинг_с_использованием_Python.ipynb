{
  "nbformat": 4,
  "nbformat_minor": 0,
  "metadata": {
    "colab": {
      "provenance": [],
      "collapsed_sections": [],
      "include_colab_link": true
    },
    "kernelspec": {
      "name": "python3",
      "display_name": "Python 3"
    },
    "language_info": {
      "name": "python"
    }
  },
  "cells": [
    {
      "cell_type": "markdown",
      "metadata": {
        "id": "view-in-github",
        "colab_type": "text"
      },
      "source": [
        "<a href=\"https://colab.research.google.com/github/arsb29/web-scraping/blob/main/%D0%92%D0%B5%D0%B1_%D1%81%D0%BA%D1%80%D0%B0%D0%BF%D0%B8%D0%BD%D0%B3_%D1%81_%D0%B8%D1%81%D0%BF%D0%BE%D0%BB%D1%8C%D0%B7%D0%BE%D0%B2%D0%B0%D0%BD%D0%B8%D0%B5%D0%BC_Python.ipynb\" target=\"_parent\"><img src=\"https://colab.research.google.com/assets/colab-badge.svg\" alt=\"Open In Colab\"/></a>"
      ]
    },
    {
      "cell_type": "code",
      "source": [
        "import json\n",
        "import requests\n",
        "from bs4 import BeautifulSoup"
      ],
      "metadata": {
        "id": "UZgE8THveTO9"
      },
      "execution_count": 1,
      "outputs": []
    },
    {
      "cell_type": "code",
      "source": [
        "def get_article_info(article, supplement_to_article):\n",
        "  title = article.find('a', {'class': 'tm-article-snippet__title-link'}).span.get_text()\n",
        "  datetime = article.find('span', {'class': 'tm-article-snippet__datetime-published'}).time['datetime']\n",
        "  author = article.find('a', {'class': 'tm-user-info__userpic'})['title']\n",
        "\n",
        "  id = article['id']\n",
        "  script_data = supplement_to_article[id]\n",
        "  description = BeautifulSoup(script_data['leadData']['textHtml'], 'html.parser').get_text()\n",
        "  tags = [i['titleHtml'] for i in script_data['tags']]\n",
        "  link = f\"https://habr.com/ru/post/{id}/\"\n",
        "\n",
        "  article_result = {\n",
        "    'title': title,\n",
        "    'datetime': datetime,\n",
        "    'author': author,\n",
        "    'description': description,\n",
        "    'tags': tags,\n",
        "    'link': link\n",
        "  }\n",
        "\n",
        "  return article_result"
      ],
      "metadata": {
        "id": "QKkNB0Gzmk0L"
      },
      "execution_count": 2,
      "outputs": []
    },
    {
      "cell_type": "code",
      "source": [
        "def habr_parse(query, pages):\n",
        "  results = {\n",
        "    'query': query,\n",
        "    'articles': []\n",
        "  }\n",
        "  pages_range = [str(i) for i in range(1, pages + 1)]\n",
        "  for page in pages_range:\n",
        "    data = requests.get(f'https://habr.com/ru/search/page{page}/?q={query}')\n",
        "    if data.status_code == 200:\n",
        "      bs = BeautifulSoup(data.text, 'html.parser')\n",
        "      articles = bs.find_all('article', {'class': 'tm-articles-list__item'})\n",
        "      script = bs.find_all('script')[4].get_text();\n",
        "      supplement_to_article = json.loads(script[script.find('=') + 1: script.find(';(')])['articlesList']['articlesList']\n",
        "      for article in articles:\n",
        "        results['articles'].append(get_article_info(article, supplement_to_article))\n",
        "\n",
        "  return results"
      ],
      "metadata": {
        "id": "7eXK4-VgoNS5"
      },
      "execution_count": 3,
      "outputs": []
    },
    {
      "cell_type": "code",
      "source": [
        "QUERY = 'web3'\n",
        "PAGES = 2"
      ],
      "metadata": {
        "id": "jN0KmOCXkoPm"
      },
      "execution_count": 4,
      "outputs": []
    },
    {
      "cell_type": "code",
      "source": [
        "result = habr_parse(QUERY, PAGES)"
      ],
      "metadata": {
        "id": "qyWBLQHnmV53"
      },
      "execution_count": 5,
      "outputs": []
    },
    {
      "cell_type": "code",
      "source": [
        "with open('habr_parse.json', 'w', encoding='utf-8') as json_file:\n",
        "    json.dump(result, json_file, ensure_ascii=False)"
      ],
      "metadata": {
        "id": "rWiDB-UWqbkD"
      },
      "execution_count": 6,
      "outputs": []
    },
    {
      "cell_type": "code",
      "source": [],
      "metadata": {
        "id": "FIAmWMHHqfsK"
      },
      "execution_count": 6,
      "outputs": []
    }
  ]
}